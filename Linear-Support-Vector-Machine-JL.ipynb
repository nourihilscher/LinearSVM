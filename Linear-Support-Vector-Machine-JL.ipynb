{
 "cells": [
  {
   "cell_type": "markdown",
   "id": "3ff9c0da",
   "metadata": {},
   "source": [
    "# Linear SVM (Julia Implementation)"
   ]
  },
  {
   "cell_type": "markdown",
   "id": "afe7673a",
   "metadata": {},
   "source": [
    "We are trying to solve a problem of binary classification. Lets assume we are given a set $S$ of $n \\in \\mathbb{N}$ datapoints $x_k \\in \\mathbb{R}^m$ with corresponding labels $y_k \\in \\{-1, 1\\}$ (if the labels are given in the form $y_n \\in \\{0, 1\\}$ we suggest either transforming them or altering the algorithms given below). Our goal is to build and train a **Support Vector Machine** (SVM) which can be used to predict labels of new datapoints. In contrast to most other methods we will try to achive this by using linear optimzation (Simplex Algorithm).  \n",
    "\n",
    "For notation purposes we denote the set of all $x_k \\in S$ with $y_k = 1$ as $S^+$ and the set of all $x_k = -1$ as $S^-$.\n",
    "\n",
    "### Finding one seperating hyperplane\n",
    "The following algorithm aims to find any seperating hyperplane to split the data into two half-spaces.  \n",
    "**Goal**: Find a seperating hyperplane of the form $a^T x = \\beta, a \\in \\mathbb{R}^m, \\beta \\in \\mathbb{R}$ with $a^T x_k >= \\beta$ if $x_k \\in S^+$ and $a^T x_k <= \\beta$ if $x_k \\in S^-$  \n"
   ]
  },
  {
   "cell_type": "code",
   "execution_count": null,
   "id": "bf54c25f",
   "metadata": {},
   "outputs": [],
   "source": []
  }
 ],
 "metadata": {
  "kernelspec": {
   "display_name": "Julia 1.7.2",
   "language": "julia",
   "name": "julia-1.7"
  },
  "language_info": {
   "file_extension": ".jl",
   "mimetype": "application/julia",
   "name": "julia",
   "version": "1.7.2"
  }
 },
 "nbformat": 4,
 "nbformat_minor": 5
}
