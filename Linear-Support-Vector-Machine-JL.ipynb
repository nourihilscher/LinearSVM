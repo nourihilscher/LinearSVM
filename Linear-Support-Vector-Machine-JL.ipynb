{
 "cells": [
  {
   "cell_type": "markdown",
   "id": "71e48efb",
   "metadata": {},
   "source": [
    "# Linear SVM (Julia Implementation)"
   ]
  },
  {
   "cell_type": "markdown",
   "id": "c28b3a6a",
   "metadata": {},
   "source": [
    "We are trying to solve a problem of binary classification. Lets assume we are given a set $S$ of $n \\in \\mathbb{N}$ datapoints $x_k \\in \\mathbb{R}^m$ with corresponding labels $y_k \\in \\{-1, 1\\}$ (if the labels are given in the form $y_n \\in \\{0, 1\\}$ we suggest either transforming them or altering the algorithms given below). Our goal is to build and train a **Support Vector Machine** (SVM) which can be used to predict labels of new datapoints. In contrast to most other methods we will try to achive this by using linear optimzation (Simplex Algorithm).  \n",
    "\n",
    "For notation purposes we denote the set of all $x_k \\in S$ with $y_k = 1$ as $S^+$ and the set of all $x_k = -1$ as $S^-$.\n",
    "\n",
    "### Finding one seperating hyperplane\n",
    "The following algorithm aims to find any seperating hyperplane of the form $a^T x = \\beta, a \\in \\mathbb{R}^m, \\beta \\in \\mathbb{R}$ (with $a^T x_k \\geq \\beta$ if $x_k \\in S^+$ and $a^T x_k \\leq \\beta$ if $x_k \\in S^-$) to split the data into two half-spaces.  \n",
    "**Why does it work?**: The Simplex Algorithm is only able to solve linear optimization problems with constraints that form a polyhedron. We can view the set of all hyperplanes which seperate our data as $H = \\{(a, \\beta) \\in \\mathbb{R}^{m+1} | a^T x - \\beta \\leq 0, \\forall x \\in S^+ \\text{ and } a^T x - \\beta \\geq 0, \\forall x \\in S^- \\}$ (we add a Restriction for every point in our provided dataset) which is clearly a polyhedron. Now optimizing over the linear objective function $0^T a + 0 \\cdot \\beta$ will provide one seperating hyperplane."
   ]
  },
  {
   "cell_type": "code",
   "execution_count": null,
   "id": "91faa2e6",
   "metadata": {},
   "outputs": [],
   "source": []
  },
  {
   "cell_type": "markdown",
   "id": "2f1f1b31",
   "metadata": {},
   "source": [
    "### Findind a seperating hyperplane with maximal distance SVM\n",
    "The following algorithm aims to find the hyperplane "
   ]
  },
  {
   "cell_type": "code",
   "execution_count": null,
   "id": "9b4c04b2",
   "metadata": {},
   "outputs": [],
   "source": []
  }
 ],
 "metadata": {
  "kernelspec": {
   "display_name": "Julia 1.7.2",
   "language": "julia",
   "name": "julia-1.7"
  },
  "language_info": {
   "file_extension": ".jl",
   "mimetype": "application/julia",
   "name": "julia",
   "version": "1.7.2"
  }
 },
 "nbformat": 4,
 "nbformat_minor": 5
}
